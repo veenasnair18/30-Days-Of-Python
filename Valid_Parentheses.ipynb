{
  "nbformat": 4,
  "nbformat_minor": 0,
  "metadata": {
    "colab": {
      "name": "Valid Parentheses.ipynb",
      "provenance": [],
      "authorship_tag": "ABX9TyOzsTVe8e12hfXKdYcbVAXx",
      "include_colab_link": true
    },
    "kernelspec": {
      "name": "python3",
      "display_name": "Python 3"
    },
    "language_info": {
      "name": "python"
    }
  },
  "cells": [
    {
      "cell_type": "markdown",
      "metadata": {
        "id": "view-in-github",
        "colab_type": "text"
      },
      "source": [
        "<a href=\"https://colab.research.google.com/github/veenasnair18/30-Days-Of-Python/blob/master/Valid_Parentheses.ipynb\" target=\"_parent\"><img src=\"https://colab.research.google.com/assets/colab-badge.svg\" alt=\"Open In Colab\"/></a>"
      ]
    },
    {
      "cell_type": "markdown",
      "source": [
        "Given a string s containing just the characters '(', ')', '{', '}', '[' and ']', determine if the input string is valid.\n",
        "\n",
        "An input string is valid if:\n",
        "\n",
        "* Open brackets must be closed by the same type of brackets.\n",
        "* Open brackets must be closed in the correct order.\n",
        "> * Input: s = \"()\"\n",
        " * Output: true"
      ],
      "metadata": {
        "id": "9mLy2Vf1b7Qm"
      }
    },
    {
      "cell_type": "code",
      "execution_count": 9,
      "metadata": {
        "colab": {
          "base_uri": "https://localhost:8080/"
        },
        "id": "DsNTzmpYWgGP",
        "outputId": "f76f73fc-33a1-4f84-9dce-5de56c567acc"
      },
      "outputs": [
        {
          "output_type": "stream",
          "name": "stdout",
          "text": [
            "[}\n",
            "false\n"
          ]
        }
      ],
      "source": [
        "s = input()\n",
        "ls = len(s)\n",
        "flags = 0\n",
        "if(ls == 2):\n",
        "  if(s[0]==\"[\" and s[1]==\"]\") or (s[0]==\"{\" and s[1]==\"}\") or (s[0]==\"(\" and s[1]==\")\"):\n",
        "    flags +=1\n",
        "else:\n",
        "  for i in range(0,ls,1):\n",
        "    if(s[i-1]==\"[\" and s[i]==\"]\") or (s[i-1]==\"{\" and s[i]==\"}\") or (s[i-1]==\"(\" and s[i]==\")\"):\n",
        "      flags +=1\n",
        "if(flags>0):\n",
        "  print(\"true\")\n",
        "else:\n",
        "  print(\"false\")"
      ]
    },
    {
      "cell_type": "markdown",
      "source": [
        "\n",
        "\n",
        "```\n",
        "class Solution:\n",
        "    def isValid(self, s: str) -> bool:\n",
        "        stack = []\n",
        "        dict = {\"]\":\"[\", \"}\":\"{\", \")\":\"(\"}\n",
        "        for p in s:\n",
        "            if p in dict.values():\n",
        "                stack.append(p)\n",
        "            elif p in dict.keys():\n",
        "                if stack == [] or dict[p] != stack.pop():\n",
        "                    return False\n",
        "            else:\n",
        "                return False\n",
        "        return stack == []\n",
        "```\n",
        "\n"
      ],
      "metadata": {
        "id": "pjRSALt7bzdi"
      }
    }
  ]
}